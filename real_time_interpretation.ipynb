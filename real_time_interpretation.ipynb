{
 "cells": [
  {
   "cell_type": "code",
   "execution_count": 1,
   "id": "7c00c522-034c-478e-a598-9129c6f1b5dd",
   "metadata": {},
   "outputs": [],
   "source": [
    "import cv2\n",
    "import matplotlib.pyplot as plt\n",
    "import tensorflow\n",
    "from tensorflow.keras.models import Sequential\n",
    "from tensorflow.keras.layers import Dense, Dropout, Activation, Flatten, BatchNormalization\n",
    "from tensorflow.keras.layers import Conv2D, MaxPooling2D\n",
    "import numpy as np\n",
    "import matplotlib.pyplot as plt\n",
    "from numpy import loadtxt\n",
    "import warnings\n",
    "warnings.filterwarnings(\"ignore\")\n",
    "from keras.models import load_model"
   ]
  },
  {
   "cell_type": "markdown",
   "id": "c5fc6ab2-598a-4aec-a38a-8e5b2053b962",
   "metadata": {
    "tags": []
   },
   "source": [
    "### Resnet50V2 (128 x 128)"
   ]
  },
  {
   "cell_type": "code",
   "execution_count": 2,
   "id": "3a05106b-fe47-4a65-ad94-cbb65b3c6a02",
   "metadata": {},
   "outputs": [],
   "source": [
    "trained_model_path = '../notebooks/models/resnet_fine_tunned_lrdecay.h5'"
   ]
  },
  {
   "cell_type": "code",
   "execution_count": 3,
   "id": "10de777c-1d42-45da-8f9f-31ba95d3eb5a",
   "metadata": {},
   "outputs": [],
   "source": [
    "model = load_model(trained_model_path)"
   ]
  },
  {
   "cell_type": "code",
   "execution_count": 4,
   "id": "cde2a995-8f20-4ed7-99f4-ef5786465da3",
   "metadata": {},
   "outputs": [
    {
     "name": "stdout",
     "output_type": "stream",
     "text": [
      "Model: \"sequential_1\"\n",
      "_________________________________________________________________\n",
      " Layer (type)                Output Shape              Param #   \n",
      "=================================================================\n",
      " resnet50v2 (Functional)     (None, 4, 4, 2048)        23564800  \n",
      "                                                                 \n",
      " flatten_1 (Flatten)         (None, 32768)             0         \n",
      "                                                                 \n",
      " batch_normalization_2 (Batc  (None, 32768)            131072    \n",
      " hNormalization)                                                 \n",
      "                                                                 \n",
      " dense_2 (Dense)             (None, 128)               4194432   \n",
      "                                                                 \n",
      " dropout_1 (Dropout)         (None, 128)               0         \n",
      "                                                                 \n",
      " batch_normalization_3 (Batc  (None, 128)              512       \n",
      " hNormalization)                                                 \n",
      "                                                                 \n",
      " dense_3 (Dense)             (None, 26)                3354      \n",
      "                                                                 \n",
      "=================================================================\n",
      "Total params: 27,894,170\n",
      "Trainable params: 19,234,458\n",
      "Non-trainable params: 8,659,712\n",
      "_________________________________________________________________\n"
     ]
    }
   ],
   "source": [
    "model.summary()"
   ]
  },
  {
   "cell_type": "code",
   "execution_count": 5,
   "id": "13767a05-6d27-487b-93c1-77dac7c5cee2",
   "metadata": {},
   "outputs": [],
   "source": [
    "def predictions(model, frame, labels_dict, dimension, channels):\n",
    "    data = np.ndarray(shape=(1, dimension, dimension, channels))\n",
    "    data[0] = frame\n",
    "    prediction = model.predict(data, verbose=0)\n",
    "    index = np.argmax(prediction)\n",
    "    confidence_score = prediction[0][index]\n",
    "    label = labels_dict[index]\n",
    "    confidence_score_str = str(float(\"{:.2f}\".format(confidence_score*100)))+\"%\"\n",
    "    return label, confidence_score_str"
   ]
  },
  {
   "cell_type": "code",
   "execution_count": 6,
   "id": "33b6d5e7-e082-463e-a284-b8124414baa1",
   "metadata": {},
   "outputs": [],
   "source": [
    "def reshape_dimension(frame, dimension, channels):\n",
    "    image = cv2.resize(frame,(dimension, dimension))\n",
    "    resized = image.reshape(dimension, dimension, channels) / 255\n",
    "    return resized"
   ]
  },
  {
   "cell_type": "markdown",
   "id": "69d82c5a-7753-4c9b-b2cc-7004faccf0bc",
   "metadata": {},
   "source": [
    "### Getting images"
   ]
  },
  {
   "cell_type": "code",
   "execution_count": 7,
   "id": "7fe4436a-2a00-472d-add4-3610b29e888f",
   "metadata": {},
   "outputs": [],
   "source": [
    "labels = {}\n",
    "letters = ['A', 'B', 'C', 'D', 'E', 'F', 'G', 'H', 'I', 'K', 'L', 'M', 'N', 'O', 'P', 'Q', 'R', 'S', 'T', 'U', 'V', 'W', 'X', 'Y', 'nothing', 'space']\n",
    "n = 0\n",
    "for label in letters:\n",
    "    labels[n] = label\n",
    "    n += 1"
   ]
  },
  {
   "cell_type": "code",
   "execution_count": 8,
   "id": "b0d45e40-ca1f-497e-939a-bfa06d23f9e4",
   "metadata": {},
   "outputs": [],
   "source": [
    "vid = cv2.VideoCapture(0)\n",
    "\n",
    "while(True):\n",
    "    upper_left = (50, 80)\n",
    "    bottom_right = (270, 300)\n",
    "    \n",
    "    ret, image_frame = vid.read()\n",
    "    r = cv2.rectangle(image_frame, upper_left, bottom_right, (10, 230, 10), 4)\n",
    "    rect_img = image_frame[upper_left[1] : bottom_right[1], upper_left[0] : bottom_right[0]]\n",
    "    \n",
    "    image_frame[upper_left[1] : bottom_right[1], upper_left[0] : bottom_right[0]] = rect_img\n",
    "    reshaped_image = reshape_dimension(rect_img, 128, 3)\n",
    "    \n",
    "    a = reshaped_image\n",
    "    \n",
    "    label, confidence_score = predictions(model, reshaped_image, labels, 128, 3)\n",
    "    \n",
    "    cv2.putText(image_frame, label, (50,72), cv2.FONT_HERSHEY_DUPLEX , 1.1, (0,255,0), 2)\n",
    "    cv2.putText(image_frame, confidence_score, (205,72), cv2.FONT_HERSHEY_DUPLEX, 0.6, (0,255,0), 2)\n",
    "    cv2.imshow('frame', image_frame)\n",
    "    \n",
    "    if cv2.waitKey(1) & 0xFF == ord('q'):\n",
    "        break"
   ]
  }
 ],
 "metadata": {
  "kernelspec": {
   "display_name": "Python 3 (ipykernel)",
   "language": "python",
   "name": "python3"
  },
  "language_info": {
   "codemirror_mode": {
    "name": "ipython",
    "version": 3
   },
   "file_extension": ".py",
   "mimetype": "text/x-python",
   "name": "python",
   "nbconvert_exporter": "python",
   "pygments_lexer": "ipython3",
   "version": "3.9.12"
  }
 },
 "nbformat": 4,
 "nbformat_minor": 5
}
